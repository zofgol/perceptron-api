{
 "cells": [
  {
   "cell_type": "code",
   "execution_count": 1,
   "id": "c7607e35-7822-490d-a11a-39a48e430088",
   "metadata": {},
   "outputs": [],
   "source": [
    "import pickle\n",
    "from sklearn.datasets import load_iris\n",
    "from sklearn.linear_model import Perceptron\n",
    "from sklearn.model_selection import train_test_split\n",
    "\n",
    "data = load_iris()\n",
    "X, y = data.data, data.target\n",
    "\n",
    "X_train, X_test, y_train, y_test = train_test_split(X, y, test_size=0.2, random_state=42)\n",
    "\n",
    "model = Perceptron()\n",
    "model.fit(X_train, y_train)\n",
    "\n",
    "with open('perceptron_model.pkl', 'wb') as file:\n",
    "    pickle.dump(model, file)"
   ]
  },
  {
   "cell_type": "code",
   "execution_count": 2,
   "id": "a5699efa-946e-4d3f-a6b8-7bc8eb77f84e",
   "metadata": {},
   "outputs": [
    {
     "name": "stdout",
     "output_type": "stream",
     "text": [
      " * Serving Flask app '__main__'\n",
      " * Debug mode: off\n"
     ]
    },
    {
     "name": "stderr",
     "output_type": "stream",
     "text": [
      "WARNING: This is a development server. Do not use it in a production deployment. Use a production WSGI server instead.\n",
      " * Running on all addresses (0.0.0.0)\n",
      " * Running on http://127.0.0.1:5000\n",
      " * Running on http://192.168.0.102:5000\n",
      "Press CTRL+C to quit\n"
     ]
    }
   ],
   "source": [
    "from flask import Flask, request, jsonify\n",
    "import pickle\n",
    "import numpy as np\n",
    "import threading\n",
    "\n",
    "with open('perceptron_model.pkl', 'rb') as file:\n",
    "    model = pickle.load(file)\n",
    "\n",
    "app = Flask(__name__)\n",
    "\n",
    "@app.route('/predict', methods=['POST'])\n",
    "def predict():\n",
    "    data = request.json\n",
    "    prediction = model.predict(np.array([data['features']]))\n",
    "    return jsonify({'prediction': prediction.tolist()})\n",
    "\n",
    "def run_app():\n",
    "    app.run(host='0.0.0.0', port=5000)\n",
    "\n",
    "threading.Thread(target=run_app).start()"
   ]
  },
  {
   "cell_type": "code",
   "execution_count": 3,
   "id": "6574eb63-6b5d-4606-941b-a082467f371b",
   "metadata": {},
   "outputs": [
    {
     "name": "stdout",
     "output_type": "stream",
     "text": [
      "{'prediction': [0]}\n"
     ]
    }
   ],
   "source": [
    "import requests\n",
    "\n",
    "response = requests.post('http://localhost:5000/predict', json={'features': [5.1, 3.5, 1.4, 0.2]})\n",
    "print(response.json())\n"
   ]
  },
  {
   "cell_type": "code",
   "execution_count": 4,
   "id": "30bbfe49-40e3-47ba-ad8d-2ad104903146",
   "metadata": {},
   "outputs": [],
   "source": [
    "dockerfile_content = '''\n",
    "FROM python:3.8-slim\n",
    "\n",
    "WORKDIR /app\n",
    "\n",
    "COPY perceptron_model.pkl .\n",
    "COPY app.py .\n",
    "\n",
    "RUN pip install Flask scikit-learn gunicorn\n",
    "\n",
    "CMD [\"gunicorn\", \"--bind\", \"0.0.0.0:5000\", \"app:app\"]\n",
    "'''\n",
    "\n",
    "with open('Dockerfile', 'w') as file:\n",
    "    file.write(dockerfile_content)\n"
   ]
  },
  {
   "cell_type": "code",
   "execution_count": 5,
   "id": "14017e08-05fc-4ac3-a003-0b5d9d13c2a4",
   "metadata": {},
   "outputs": [],
   "source": [
    "dockerignore_content = '''\n",
    "__pycache__\n",
    "*.pyc\n",
    "*.pyo\n",
    "'''\n",
    "\n",
    "with open('.dockerignore', 'w') as file:\n",
    "    file.write(dockerignore_content)\n"
   ]
  },
  {
   "cell_type": "code",
   "execution_count": 6,
   "id": "6f43f5ad-f71f-4aaa-9742-74c84427f3db",
   "metadata": {},
   "outputs": [],
   "source": [
    "app_code = '''\n",
    "from flask import Flask, request, jsonify\n",
    "import pickle\n",
    "import numpy as np\n",
    "\n",
    "with open('perceptron_model.pkl', 'rb') as file:\n",
    "    model = pickle.load(file)\n",
    "\n",
    "app = Flask(__name__)\n",
    "\n",
    "@app.route('/predict', methods=['POST'])\n",
    "def predict():\n",
    "    data = request.json\n",
    "    prediction = model.predict(np.array([data['features']]))\n",
    "    return jsonify({'prediction': prediction.tolist()})\n",
    "\n",
    "if __name__ == '__main__':\n",
    "    app.run(host='0.0.0.0', port=5000)\n",
    "'''\n",
    "\n",
    "with open('app.py', 'w') as file:\n",
    "    file.write(app_code)\n"
   ]
  },
  {
   "cell_type": "code",
   "execution_count": null,
   "id": "6ae3ce39-9200-4be9-bfc4-4f389658e44a",
   "metadata": {},
   "outputs": [],
   "source": []
  }
 ],
 "metadata": {
  "kernelspec": {
   "display_name": "Python 3 (ipykernel)",
   "language": "python",
   "name": "python3"
  },
  "language_info": {
   "codemirror_mode": {
    "name": "ipython",
    "version": 3
   },
   "file_extension": ".py",
   "mimetype": "text/x-python",
   "name": "python",
   "nbconvert_exporter": "python",
   "pygments_lexer": "ipython3",
   "version": "3.11.7"
  }
}
